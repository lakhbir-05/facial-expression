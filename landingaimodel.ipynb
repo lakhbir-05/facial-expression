{
  "nbformat": 4,
  "nbformat_minor": 0,
  "metadata": {
    "colab": {
      "provenance": [],
      "authorship_tag": "ABX9TyPZ0M/iPkaRt38uBE29qMsO",
      "include_colab_link": true
    },
    "kernelspec": {
      "name": "python3",
      "display_name": "Python 3"
    },
    "language_info": {
      "name": "python"
    }
  },
  "cells": [
    {
      "cell_type": "markdown",
      "metadata": {
        "id": "view-in-github",
        "colab_type": "text"
      },
      "source": [
        "<a href=\"https://colab.research.google.com/github/lakhbir-05/facial-expression/blob/main/landingaimodel.ipynb\" target=\"_parent\"><img src=\"https://colab.research.google.com/assets/colab-badge.svg\" alt=\"Open In Colab\"/></a>"
      ]
    },
    {
      "cell_type": "code",
      "source": [
        "! pip install landingai"
      ],
      "metadata": {
        "colab": {
          "base_uri": "https://localhost:8080/",
          "height": 1000
        },
        "id": "l-myIuXsGd3d",
        "outputId": "a4748423-92b6-4680-b25c-85bb71b220be"
      },
      "execution_count": 1,
      "outputs": [
        {
          "output_type": "stream",
          "name": "stdout",
          "text": [
            "Collecting landingai\n",
            "  Downloading landingai-0.3.49-py3-none-any.whl.metadata (8.6 kB)\n",
            "Collecting aiofiles<1.0.0,>=0.7.0 (from landingai)\n",
            "  Downloading aiofiles-0.8.0-py3-none-any.whl.metadata (7.0 kB)\n",
            "Requirement already satisfied: aiohttp<4.0.0,>=3.7.3 in /usr/local/lib/python3.11/dist-packages (from aiohttp[speedups]<4.0.0,>=3.7.3->landingai) (3.11.15)\n",
            "Collecting bbox-visualizer<0.2.0,>=0.1.0 (from landingai)\n",
            "  Downloading bbox_visualizer-0.1.0-py2.py3-none-any.whl.metadata (4.2 kB)\n",
            "Requirement already satisfied: imageio<3.0.0,>=2.0.0 in /usr/local/lib/python3.11/dist-packages (from imageio[ffmpeg]<3.0.0,>=2.0.0->landingai) (2.37.0)\n",
            "Collecting numpy<2.0.0,>=1.21.0 (from landingai)\n",
            "  Downloading numpy-1.26.4-cp311-cp311-manylinux_2_17_x86_64.manylinux2014_x86_64.whl.metadata (61 kB)\n",
            "\u001b[2K     \u001b[90m━━━━━━━━━━━━━━━━━━━━━━━━━━━━━━━━━━━━━━━━\u001b[0m \u001b[32m61.0/61.0 kB\u001b[0m \u001b[31m5.0 MB/s\u001b[0m eta \u001b[36m0:00:00\u001b[0m\n",
            "\u001b[?25hRequirement already satisfied: opencv-python<5.0,>=4.5 in /usr/local/lib/python3.11/dist-packages (from landingai) (4.11.0.86)\n",
            "Requirement already satisfied: pandas<3.0.0,>=2.0.0 in /usr/local/lib/python3.11/dist-packages (from landingai) (2.2.2)\n",
            "Collecting pillow<11.0,>=9.0 (from landingai)\n",
            "  Downloading pillow-10.4.0-cp311-cp311-manylinux_2_28_x86_64.whl.metadata (9.2 kB)\n",
            "Requirement already satisfied: pydantic<3.0.0,>=2.0.0 in /usr/local/lib/python3.11/dist-packages (from landingai) (2.11.7)\n",
            "Collecting pydantic-settings<3.0.0,>=2.3.1 (from landingai)\n",
            "  Downloading pydantic_settings-2.10.1-py3-none-any.whl.metadata (3.4 kB)\n",
            "Requirement already satisfied: requests<3.0.0,>=2.0.0 in /usr/local/lib/python3.11/dist-packages (from landingai) (2.32.3)\n",
            "Requirement already satisfied: requests-toolbelt<2.0.0,>=1.0.0 in /usr/local/lib/python3.11/dist-packages (from landingai) (1.0.0)\n",
            "Collecting segmentation-mask-overlay<0.4.0,>=0.3.4 (from landingai)\n",
            "  Downloading segmentation_mask_overlay-0.3.4-py3-none-any.whl.metadata (2.0 kB)\n",
            "Requirement already satisfied: tenacity<9.0.0,>=8.2.3 in /usr/local/lib/python3.11/dist-packages (from landingai) (8.5.0)\n",
            "Requirement already satisfied: tqdm<5.0.0,>=4.64.0 in /usr/local/lib/python3.11/dist-packages (from landingai) (4.67.1)\n",
            "Collecting urllib3<2.0.0,>=1.26.0 (from landingai)\n",
            "  Downloading urllib3-1.26.20-py2.py3-none-any.whl.metadata (50 kB)\n",
            "\u001b[2K     \u001b[90m━━━━━━━━━━━━━━━━━━━━━━━━━━━━━━━━━━━━━━━━\u001b[0m \u001b[32m50.1/50.1 kB\u001b[0m \u001b[31m3.1 MB/s\u001b[0m eta \u001b[36m0:00:00\u001b[0m\n",
            "\u001b[?25hRequirement already satisfied: aiohappyeyeballs>=2.3.0 in /usr/local/lib/python3.11/dist-packages (from aiohttp<4.0.0,>=3.7.3->aiohttp[speedups]<4.0.0,>=3.7.3->landingai) (2.6.1)\n",
            "Requirement already satisfied: aiosignal>=1.1.2 in /usr/local/lib/python3.11/dist-packages (from aiohttp<4.0.0,>=3.7.3->aiohttp[speedups]<4.0.0,>=3.7.3->landingai) (1.3.2)\n",
            "Requirement already satisfied: attrs>=17.3.0 in /usr/local/lib/python3.11/dist-packages (from aiohttp<4.0.0,>=3.7.3->aiohttp[speedups]<4.0.0,>=3.7.3->landingai) (25.3.0)\n",
            "Requirement already satisfied: frozenlist>=1.1.1 in /usr/local/lib/python3.11/dist-packages (from aiohttp<4.0.0,>=3.7.3->aiohttp[speedups]<4.0.0,>=3.7.3->landingai) (1.7.0)\n",
            "Requirement already satisfied: multidict<7.0,>=4.5 in /usr/local/lib/python3.11/dist-packages (from aiohttp<4.0.0,>=3.7.3->aiohttp[speedups]<4.0.0,>=3.7.3->landingai) (6.4.4)\n",
            "Requirement already satisfied: propcache>=0.2.0 in /usr/local/lib/python3.11/dist-packages (from aiohttp<4.0.0,>=3.7.3->aiohttp[speedups]<4.0.0,>=3.7.3->landingai) (0.3.2)\n",
            "Requirement already satisfied: yarl<2.0,>=1.17.0 in /usr/local/lib/python3.11/dist-packages (from aiohttp<4.0.0,>=3.7.3->aiohttp[speedups]<4.0.0,>=3.7.3->landingai) (1.20.1)\n",
            "Collecting aiodns>=3.2.0 (from aiohttp[speedups]<4.0.0,>=3.7.3->landingai)\n",
            "  Downloading aiodns-3.5.0-py3-none-any.whl.metadata (5.8 kB)\n",
            "Collecting Brotli (from aiohttp[speedups]<4.0.0,>=3.7.3->landingai)\n",
            "  Downloading Brotli-1.1.0-cp311-cp311-manylinux_2_17_x86_64.manylinux2014_x86_64.whl.metadata (5.5 kB)\n",
            "Requirement already satisfied: imageio-ffmpeg in /usr/local/lib/python3.11/dist-packages (from imageio[ffmpeg]<3.0.0,>=2.0.0->landingai) (0.6.0)\n",
            "Requirement already satisfied: psutil in /usr/local/lib/python3.11/dist-packages (from imageio[ffmpeg]<3.0.0,>=2.0.0->landingai) (5.9.5)\n",
            "Requirement already satisfied: python-dateutil>=2.8.2 in /usr/local/lib/python3.11/dist-packages (from pandas<3.0.0,>=2.0.0->landingai) (2.9.0.post0)\n",
            "Requirement already satisfied: pytz>=2020.1 in /usr/local/lib/python3.11/dist-packages (from pandas<3.0.0,>=2.0.0->landingai) (2025.2)\n",
            "Requirement already satisfied: tzdata>=2022.7 in /usr/local/lib/python3.11/dist-packages (from pandas<3.0.0,>=2.0.0->landingai) (2025.2)\n",
            "Requirement already satisfied: annotated-types>=0.6.0 in /usr/local/lib/python3.11/dist-packages (from pydantic<3.0.0,>=2.0.0->landingai) (0.7.0)\n",
            "Requirement already satisfied: pydantic-core==2.33.2 in /usr/local/lib/python3.11/dist-packages (from pydantic<3.0.0,>=2.0.0->landingai) (2.33.2)\n",
            "Requirement already satisfied: typing-extensions>=4.12.2 in /usr/local/lib/python3.11/dist-packages (from pydantic<3.0.0,>=2.0.0->landingai) (4.14.0)\n",
            "Requirement already satisfied: typing-inspection>=0.4.0 in /usr/local/lib/python3.11/dist-packages (from pydantic<3.0.0,>=2.0.0->landingai) (0.4.1)\n",
            "Collecting python-dotenv>=0.21.0 (from pydantic-settings<3.0.0,>=2.3.1->landingai)\n",
            "  Downloading python_dotenv-1.1.1-py3-none-any.whl.metadata (24 kB)\n",
            "Requirement already satisfied: charset-normalizer<4,>=2 in /usr/local/lib/python3.11/dist-packages (from requests<3.0.0,>=2.0.0->landingai) (3.4.2)\n",
            "Requirement already satisfied: idna<4,>=2.5 in /usr/local/lib/python3.11/dist-packages (from requests<3.0.0,>=2.0.0->landingai) (3.10)\n",
            "Requirement already satisfied: certifi>=2017.4.17 in /usr/local/lib/python3.11/dist-packages (from requests<3.0.0,>=2.0.0->landingai) (2025.6.15)\n",
            "Requirement already satisfied: matplotlib>=3.4.2 in /usr/local/lib/python3.11/dist-packages (from segmentation-mask-overlay<0.4.0,>=0.3.4->landingai) (3.10.0)\n",
            "Requirement already satisfied: opencv-python-headless>=4.5.3 in /usr/local/lib/python3.11/dist-packages (from segmentation-mask-overlay<0.4.0,>=0.3.4->landingai) (4.11.0.86)\n",
            "Collecting pycares>=4.9.0 (from aiodns>=3.2.0->aiohttp[speedups]<4.0.0,>=3.7.3->landingai)\n",
            "  Downloading pycares-4.9.0-cp311-cp311-manylinux_2_17_x86_64.manylinux2014_x86_64.whl.metadata (4.3 kB)\n",
            "Requirement already satisfied: contourpy>=1.0.1 in /usr/local/lib/python3.11/dist-packages (from matplotlib>=3.4.2->segmentation-mask-overlay<0.4.0,>=0.3.4->landingai) (1.3.2)\n",
            "Requirement already satisfied: cycler>=0.10 in /usr/local/lib/python3.11/dist-packages (from matplotlib>=3.4.2->segmentation-mask-overlay<0.4.0,>=0.3.4->landingai) (0.12.1)\n",
            "Requirement already satisfied: fonttools>=4.22.0 in /usr/local/lib/python3.11/dist-packages (from matplotlib>=3.4.2->segmentation-mask-overlay<0.4.0,>=0.3.4->landingai) (4.58.4)\n",
            "Requirement already satisfied: kiwisolver>=1.3.1 in /usr/local/lib/python3.11/dist-packages (from matplotlib>=3.4.2->segmentation-mask-overlay<0.4.0,>=0.3.4->landingai) (1.4.8)\n",
            "Requirement already satisfied: packaging>=20.0 in /usr/local/lib/python3.11/dist-packages (from matplotlib>=3.4.2->segmentation-mask-overlay<0.4.0,>=0.3.4->landingai) (24.2)\n",
            "Requirement already satisfied: pyparsing>=2.3.1 in /usr/local/lib/python3.11/dist-packages (from matplotlib>=3.4.2->segmentation-mask-overlay<0.4.0,>=0.3.4->landingai) (3.2.3)\n",
            "Requirement already satisfied: six>=1.5 in /usr/local/lib/python3.11/dist-packages (from python-dateutil>=2.8.2->pandas<3.0.0,>=2.0.0->landingai) (1.17.0)\n",
            "Requirement already satisfied: cffi>=1.5.0 in /usr/local/lib/python3.11/dist-packages (from pycares>=4.9.0->aiodns>=3.2.0->aiohttp[speedups]<4.0.0,>=3.7.3->landingai) (1.17.1)\n",
            "Requirement already satisfied: pycparser in /usr/local/lib/python3.11/dist-packages (from cffi>=1.5.0->pycares>=4.9.0->aiodns>=3.2.0->aiohttp[speedups]<4.0.0,>=3.7.3->landingai) (2.22)\n",
            "Downloading landingai-0.3.49-py3-none-any.whl (1.0 MB)\n",
            "\u001b[2K   \u001b[90m━━━━━━━━━━━━━━━━━━━━━━━━━━━━━━━━━━━━━━━━\u001b[0m \u001b[32m1.0/1.0 MB\u001b[0m \u001b[31m36.3 MB/s\u001b[0m eta \u001b[36m0:00:00\u001b[0m\n",
            "\u001b[?25hDownloading aiofiles-0.8.0-py3-none-any.whl (13 kB)\n",
            "Downloading bbox_visualizer-0.1.0-py2.py3-none-any.whl (6.2 kB)\n",
            "Downloading numpy-1.26.4-cp311-cp311-manylinux_2_17_x86_64.manylinux2014_x86_64.whl (18.3 MB)\n",
            "\u001b[2K   \u001b[90m━━━━━━━━━━━━━━━━━━━━━━━━━━━━━━━━━━━━━━━━\u001b[0m \u001b[32m18.3/18.3 MB\u001b[0m \u001b[31m84.1 MB/s\u001b[0m eta \u001b[36m0:00:00\u001b[0m\n",
            "\u001b[?25hDownloading pillow-10.4.0-cp311-cp311-manylinux_2_28_x86_64.whl (4.5 MB)\n",
            "\u001b[2K   \u001b[90m━━━━━━━━━━━━━━━━━━━━━━━━━━━━━━━━━━━━━━━━\u001b[0m \u001b[32m4.5/4.5 MB\u001b[0m \u001b[31m86.0 MB/s\u001b[0m eta \u001b[36m0:00:00\u001b[0m\n",
            "\u001b[?25hDownloading pydantic_settings-2.10.1-py3-none-any.whl (45 kB)\n",
            "\u001b[2K   \u001b[90m━━━━━━━━━━━━━━━━━━━━━━━━━━━━━━━━━━━━━━━━\u001b[0m \u001b[32m45.2/45.2 kB\u001b[0m \u001b[31m3.2 MB/s\u001b[0m eta \u001b[36m0:00:00\u001b[0m\n",
            "\u001b[?25hDownloading segmentation_mask_overlay-0.3.4-py3-none-any.whl (276 kB)\n",
            "\u001b[2K   \u001b[90m━━━━━━━━━━━━━━━━━━━━━━━━━━━━━━━━━━━━━━━━\u001b[0m \u001b[32m276.6/276.6 kB\u001b[0m \u001b[31m16.4 MB/s\u001b[0m eta \u001b[36m0:00:00\u001b[0m\n",
            "\u001b[?25hDownloading urllib3-1.26.20-py2.py3-none-any.whl (144 kB)\n",
            "\u001b[2K   \u001b[90m━━━━━━━━━━━━━━━━━━━━━━━━━━━━━━━━━━━━━━━━\u001b[0m \u001b[32m144.2/144.2 kB\u001b[0m \u001b[31m11.0 MB/s\u001b[0m eta \u001b[36m0:00:00\u001b[0m\n",
            "\u001b[?25hDownloading aiodns-3.5.0-py3-none-any.whl (8.1 kB)\n",
            "Downloading python_dotenv-1.1.1-py3-none-any.whl (20 kB)\n",
            "Downloading Brotli-1.1.0-cp311-cp311-manylinux_2_17_x86_64.manylinux2014_x86_64.whl (2.9 MB)\n",
            "\u001b[2K   \u001b[90m━━━━━━━━━━━━━━━━━━━━━━━━━━━━━━━━━━━━━━━━\u001b[0m \u001b[32m2.9/2.9 MB\u001b[0m \u001b[31m89.6 MB/s\u001b[0m eta \u001b[36m0:00:00\u001b[0m\n",
            "\u001b[?25hDownloading pycares-4.9.0-cp311-cp311-manylinux_2_17_x86_64.manylinux2014_x86_64.whl (627 kB)\n",
            "\u001b[2K   \u001b[90m━━━━━━━━━━━━━━━━━━━━━━━━━━━━━━━━━━━━━━━━\u001b[0m \u001b[32m628.0/628.0 kB\u001b[0m \u001b[31m42.5 MB/s\u001b[0m eta \u001b[36m0:00:00\u001b[0m\n",
            "\u001b[?25hInstalling collected packages: Brotli, urllib3, python-dotenv, pillow, numpy, bbox-visualizer, aiofiles, pycares, pydantic-settings, aiodns, segmentation-mask-overlay, landingai\n",
            "  Attempting uninstall: urllib3\n",
            "    Found existing installation: urllib3 2.4.0\n",
            "    Uninstalling urllib3-2.4.0:\n",
            "      Successfully uninstalled urllib3-2.4.0\n",
            "  Attempting uninstall: pillow\n",
            "    Found existing installation: pillow 11.2.1\n",
            "    Uninstalling pillow-11.2.1:\n",
            "      Successfully uninstalled pillow-11.2.1\n",
            "  Attempting uninstall: numpy\n",
            "    Found existing installation: numpy 2.0.2\n",
            "    Uninstalling numpy-2.0.2:\n",
            "      Successfully uninstalled numpy-2.0.2\n",
            "  Attempting uninstall: aiofiles\n",
            "    Found existing installation: aiofiles 24.1.0\n",
            "    Uninstalling aiofiles-24.1.0:\n",
            "      Successfully uninstalled aiofiles-24.1.0\n",
            "\u001b[31mERROR: pip's dependency resolver does not currently take into account all the packages that are installed. This behaviour is the source of the following dependency conflicts.\n",
            "gradio 5.31.0 requires aiofiles<25.0,>=22.0, but you have aiofiles 0.8.0 which is incompatible.\n",
            "thinc 8.3.6 requires numpy<3.0.0,>=2.0.0, but you have numpy 1.26.4 which is incompatible.\u001b[0m\u001b[31m\n",
            "\u001b[0mSuccessfully installed Brotli-1.1.0 aiodns-3.5.0 aiofiles-0.8.0 bbox-visualizer-0.1.0 landingai-0.3.49 numpy-1.26.4 pillow-10.4.0 pycares-4.9.0 pydantic-settings-2.10.1 python-dotenv-1.1.1 segmentation-mask-overlay-0.3.4 urllib3-1.26.20\n"
          ]
        },
        {
          "output_type": "display_data",
          "data": {
            "application/vnd.colab-display-data+json": {
              "pip_warning": {
                "packages": [
                  "PIL",
                  "numpy"
                ]
              },
              "id": "b89994c8be60449883b6a99818e3f0e3"
            }
          },
          "metadata": {}
        }
      ]
    },
    {
      "cell_type": "code",
      "source": [
        "from PIL import Image\n",
        "from landingai.predict import Predictor\n",
        "# Enter your API Key\n",
        "endpoint_id = \"7dee94e2-7436-410d-acba-e653250cb7d3\"\n",
        "api_key = \"land_sk_gs48Rbokpuodio1Ri7kseaNwwJnQ7Q2bq8WObf5g5AY5BwC4ix\"\n",
        "\n",
        "# Load your image\n",
        "image_path = \"/content/png-transparent-graphy-happy-woman-face-hand-photography.png\"\n",
        "image = Image.open(image_path)\n",
        "\n",
        "# Run inference\n",
        "predictor = Predictor(endpoint_id, api_key=api_key)\n",
        "predictions = predictor.predict(image)\n",
        "print(predictions)"
      ],
      "metadata": {
        "colab": {
          "base_uri": "https://localhost:8080/"
        },
        "id": "Zn3_NVd9FzxR",
        "outputId": "d868b22f-c4d4-46b8-eda8-18aa572fa7bf"
      },
      "execution_count": 2,
      "outputs": [
        {
          "output_type": "stream",
          "name": "stdout",
          "text": [
            "[ClassificationPrediction(score=0.27464672923088074, label_name='happy', label_index=0)]\n"
          ]
        }
      ]
    },
    {
      "cell_type": "code",
      "source": [
        "from google.colab import files\n",
        "uploaded = files.upload()\n"
      ],
      "metadata": {
        "colab": {
          "base_uri": "https://localhost:8080/",
          "height": 73
        },
        "id": "_DjU4NOetJAI",
        "outputId": "c4d97121-b98b-4b8c-b921-829f673929c7"
      },
      "execution_count": 5,
      "outputs": [
        {
          "output_type": "display_data",
          "data": {
            "text/plain": [
              "<IPython.core.display.HTML object>"
            ],
            "text/html": [
              "\n",
              "     <input type=\"file\" id=\"files-0713bf3c-111f-4585-a4f0-1ba8c3e87bb0\" name=\"files[]\" multiple disabled\n",
              "        style=\"border:none\" />\n",
              "     <output id=\"result-0713bf3c-111f-4585-a4f0-1ba8c3e87bb0\">\n",
              "      Upload widget is only available when the cell has been executed in the\n",
              "      current browser session. Please rerun this cell to enable.\n",
              "      </output>\n",
              "      <script>// Copyright 2017 Google LLC\n",
              "//\n",
              "// Licensed under the Apache License, Version 2.0 (the \"License\");\n",
              "// you may not use this file except in compliance with the License.\n",
              "// You may obtain a copy of the License at\n",
              "//\n",
              "//      http://www.apache.org/licenses/LICENSE-2.0\n",
              "//\n",
              "// Unless required by applicable law or agreed to in writing, software\n",
              "// distributed under the License is distributed on an \"AS IS\" BASIS,\n",
              "// WITHOUT WARRANTIES OR CONDITIONS OF ANY KIND, either express or implied.\n",
              "// See the License for the specific language governing permissions and\n",
              "// limitations under the License.\n",
              "\n",
              "/**\n",
              " * @fileoverview Helpers for google.colab Python module.\n",
              " */\n",
              "(function(scope) {\n",
              "function span(text, styleAttributes = {}) {\n",
              "  const element = document.createElement('span');\n",
              "  element.textContent = text;\n",
              "  for (const key of Object.keys(styleAttributes)) {\n",
              "    element.style[key] = styleAttributes[key];\n",
              "  }\n",
              "  return element;\n",
              "}\n",
              "\n",
              "// Max number of bytes which will be uploaded at a time.\n",
              "const MAX_PAYLOAD_SIZE = 100 * 1024;\n",
              "\n",
              "function _uploadFiles(inputId, outputId) {\n",
              "  const steps = uploadFilesStep(inputId, outputId);\n",
              "  const outputElement = document.getElementById(outputId);\n",
              "  // Cache steps on the outputElement to make it available for the next call\n",
              "  // to uploadFilesContinue from Python.\n",
              "  outputElement.steps = steps;\n",
              "\n",
              "  return _uploadFilesContinue(outputId);\n",
              "}\n",
              "\n",
              "// This is roughly an async generator (not supported in the browser yet),\n",
              "// where there are multiple asynchronous steps and the Python side is going\n",
              "// to poll for completion of each step.\n",
              "// This uses a Promise to block the python side on completion of each step,\n",
              "// then passes the result of the previous step as the input to the next step.\n",
              "function _uploadFilesContinue(outputId) {\n",
              "  const outputElement = document.getElementById(outputId);\n",
              "  const steps = outputElement.steps;\n",
              "\n",
              "  const next = steps.next(outputElement.lastPromiseValue);\n",
              "  return Promise.resolve(next.value.promise).then((value) => {\n",
              "    // Cache the last promise value to make it available to the next\n",
              "    // step of the generator.\n",
              "    outputElement.lastPromiseValue = value;\n",
              "    return next.value.response;\n",
              "  });\n",
              "}\n",
              "\n",
              "/**\n",
              " * Generator function which is called between each async step of the upload\n",
              " * process.\n",
              " * @param {string} inputId Element ID of the input file picker element.\n",
              " * @param {string} outputId Element ID of the output display.\n",
              " * @return {!Iterable<!Object>} Iterable of next steps.\n",
              " */\n",
              "function* uploadFilesStep(inputId, outputId) {\n",
              "  const inputElement = document.getElementById(inputId);\n",
              "  inputElement.disabled = false;\n",
              "\n",
              "  const outputElement = document.getElementById(outputId);\n",
              "  outputElement.innerHTML = '';\n",
              "\n",
              "  const pickedPromise = new Promise((resolve) => {\n",
              "    inputElement.addEventListener('change', (e) => {\n",
              "      resolve(e.target.files);\n",
              "    });\n",
              "  });\n",
              "\n",
              "  const cancel = document.createElement('button');\n",
              "  inputElement.parentElement.appendChild(cancel);\n",
              "  cancel.textContent = 'Cancel upload';\n",
              "  const cancelPromise = new Promise((resolve) => {\n",
              "    cancel.onclick = () => {\n",
              "      resolve(null);\n",
              "    };\n",
              "  });\n",
              "\n",
              "  // Wait for the user to pick the files.\n",
              "  const files = yield {\n",
              "    promise: Promise.race([pickedPromise, cancelPromise]),\n",
              "    response: {\n",
              "      action: 'starting',\n",
              "    }\n",
              "  };\n",
              "\n",
              "  cancel.remove();\n",
              "\n",
              "  // Disable the input element since further picks are not allowed.\n",
              "  inputElement.disabled = true;\n",
              "\n",
              "  if (!files) {\n",
              "    return {\n",
              "      response: {\n",
              "        action: 'complete',\n",
              "      }\n",
              "    };\n",
              "  }\n",
              "\n",
              "  for (const file of files) {\n",
              "    const li = document.createElement('li');\n",
              "    li.append(span(file.name, {fontWeight: 'bold'}));\n",
              "    li.append(span(\n",
              "        `(${file.type || 'n/a'}) - ${file.size} bytes, ` +\n",
              "        `last modified: ${\n",
              "            file.lastModifiedDate ? file.lastModifiedDate.toLocaleDateString() :\n",
              "                                    'n/a'} - `));\n",
              "    const percent = span('0% done');\n",
              "    li.appendChild(percent);\n",
              "\n",
              "    outputElement.appendChild(li);\n",
              "\n",
              "    const fileDataPromise = new Promise((resolve) => {\n",
              "      const reader = new FileReader();\n",
              "      reader.onload = (e) => {\n",
              "        resolve(e.target.result);\n",
              "      };\n",
              "      reader.readAsArrayBuffer(file);\n",
              "    });\n",
              "    // Wait for the data to be ready.\n",
              "    let fileData = yield {\n",
              "      promise: fileDataPromise,\n",
              "      response: {\n",
              "        action: 'continue',\n",
              "      }\n",
              "    };\n",
              "\n",
              "    // Use a chunked sending to avoid message size limits. See b/62115660.\n",
              "    let position = 0;\n",
              "    do {\n",
              "      const length = Math.min(fileData.byteLength - position, MAX_PAYLOAD_SIZE);\n",
              "      const chunk = new Uint8Array(fileData, position, length);\n",
              "      position += length;\n",
              "\n",
              "      const base64 = btoa(String.fromCharCode.apply(null, chunk));\n",
              "      yield {\n",
              "        response: {\n",
              "          action: 'append',\n",
              "          file: file.name,\n",
              "          data: base64,\n",
              "        },\n",
              "      };\n",
              "\n",
              "      let percentDone = fileData.byteLength === 0 ?\n",
              "          100 :\n",
              "          Math.round((position / fileData.byteLength) * 100);\n",
              "      percent.textContent = `${percentDone}% done`;\n",
              "\n",
              "    } while (position < fileData.byteLength);\n",
              "  }\n",
              "\n",
              "  // All done.\n",
              "  yield {\n",
              "    response: {\n",
              "      action: 'complete',\n",
              "    }\n",
              "  };\n",
              "}\n",
              "\n",
              "scope.google = scope.google || {};\n",
              "scope.google.colab = scope.google.colab || {};\n",
              "scope.google.colab._files = {\n",
              "  _uploadFiles,\n",
              "  _uploadFilesContinue,\n",
              "};\n",
              "})(self);\n",
              "</script> "
            ]
          },
          "metadata": {}
        },
        {
          "output_type": "stream",
          "name": "stdout",
          "text": [
            "Saving emotion_images.zip to emotion_images.zip\n"
          ]
        }
      ]
    },
    {
      "cell_type": "code",
      "source": [
        "!unzip emotion_images.zip -d emotion_images\n"
      ],
      "metadata": {
        "colab": {
          "base_uri": "https://localhost:8080/"
        },
        "id": "idYd9LpgtRM7",
        "outputId": "23b3e5c5-2166-4021-effa-c05caaedcf1e"
      },
      "execution_count": 6,
      "outputs": [
        {
          "output_type": "stream",
          "name": "stdout",
          "text": [
            "Archive:  emotion_images.zip\n",
            "   creating: emotion_images/AngryFace/\n",
            "   creating: emotion_images/ExcitedFace/\n",
            "   creating: emotion_images/HappyFace/\n",
            "   creating: emotion_images/SadFace/\n",
            "  inflating: emotion_images/HappyFace/happyface1.png  \n",
            "  inflating: emotion_images/HappyFace/happyface2.png  \n",
            "  inflating: emotion_images/SadFace/sadface1.png  \n",
            "  inflating: emotion_images/SadFace/sadface2.png  \n",
            "  inflating: emotion_images/AngryFace/angryface1.png  \n",
            "  inflating: emotion_images/AngryFace/angryface2.png  \n",
            "  inflating: emotion_images/ExcitedFace/excitedface1.png  \n",
            "  inflating: emotion_images/ExcitedFace/excitedface2.png  \n"
          ]
        }
      ]
    },
    {
      "cell_type": "code",
      "source": [
        "#mine code\n",
        "from PIL import Image\n",
        "from landingai.predict import Predictor\n",
        "import os\n",
        "\n",
        "endpoint_id = \"7dee94e2-7436-410d-acba-e653250cb7d3\"\n",
        "api_key = \"land_sk_gs48Rbokpuodio1Ri7kseaNwwJnQ7Q2bq8WObf5g5AY5BwC4ix\"\n",
        "\n",
        "images_directory = \"/content/emotion_images\"\n",
        "predictor = Predictor(endpoint_id, api_key=api_key)\n",
        "\n",
        "for root, dirs, files in os.walk(images_directory):\n",
        "    for file in files:\n",
        "        # Only process image files by extension\n",
        "        if file.lower().endswith(('.png', '.jpg', '.jpeg')):\n",
        "            image_path = os.path.join(root, file)\n",
        "            try:\n",
        "                image = Image.open(image_path)\n",
        "                predictions = predictor.predict(image)\n",
        "                print(f\"\\nPredictions for {file}:\")\n",
        "                print(predictions)\n",
        "            except Exception as e:\n",
        "                print(f\"Error processing {file}: {e}\")\n"
      ],
      "metadata": {
        "colab": {
          "base_uri": "https://localhost:8080/"
        },
        "outputId": "6e5317c2-e10b-439e-cb09-5eb19b2a6dae",
        "id": "ELZsXVYpvB7J"
      },
      "execution_count": null,
      "outputs": [
        {
          "output_type": "stream",
          "name": "stdout",
          "text": [
            "\n",
            "Predictions for excitedface1.png:\n",
            "[ClassificationPrediction(score=0.27122965455055237, label_name='happy', label_index=0)]\n",
            "\n",
            "Predictions for excitedface2.png:\n",
            "[ClassificationPrediction(score=0.28795984387397766, label_name='happy', label_index=0)]\n",
            "\n",
            "Predictions for happyface2.png:\n",
            "[ClassificationPrediction(score=0.2721002697944641, label_name='sad', label_index=1)]\n",
            "\n",
            "Predictions for happyface1.png:\n",
            "[ClassificationPrediction(score=0.27750980854034424, label_name='sad', label_index=1)]\n",
            "\n",
            "Predictions for sadface2.png:\n",
            "[ClassificationPrediction(score=0.2800721526145935, label_name='sad', label_index=1)]\n",
            "\n",
            "Predictions for sadface1.png:\n",
            "[ClassificationPrediction(score=0.2792365550994873, label_name='sad', label_index=1)]\n",
            "\n",
            "Predictions for angryface2.png:\n",
            "[ClassificationPrediction(score=0.2617889940738678, label_name='angry', label_index=3)]\n",
            "\n",
            "Predictions for angryface1.png:\n",
            "[ClassificationPrediction(score=0.25879839062690735, label_name='angry', label_index=3)]\n"
          ]
        }
      ]
    },
    {
      "cell_type": "code",
      "source": [
        "#sir\n",
        "from PIL import Image\n",
        "from landingai.predict import Predictor\n",
        "import os\n",
        "\n",
        "# Enter your API Key\n",
        "endpoint_id = \"7dee94e2-7436-410d-acba-e653250cb7d3\"\n",
        "api_key = \"land_sk_gs48Rbokpuodio1Ri7kseaNwwJnQ7Q2bq8WObf5g5AY5BwC4ix\"\n",
        "images_directory= \"emotion_images\"\n",
        "allfiles=os.listdir(images_directory)\n",
        "for file in allfiles:\n",
        "# Load your image\n",
        "  image_path=os.path.join(images_directory,file)\n",
        "  try:\n",
        "     image = Image.open(image_path)\n",
        "# Run inference\n",
        "     predictor = Predictor(endpoint_id, api_key=api_key)\n",
        "     predictions = predictor.predict(image)\n",
        "     print(f\"\\n predictions for {file}:\")\n",
        "     print(predictions)\n",
        "  except Exception as e:\n",
        "     print(f\"Error processing{file}:{e}\")"
      ],
      "metadata": {
        "colab": {
          "base_uri": "https://localhost:8080/"
        },
        "id": "Sy1jlTVUfwOT",
        "outputId": "fb338ad2-4f95-4b1f-edf3-8ec184c5a107"
      },
      "execution_count": 10,
      "outputs": [
        {
          "output_type": "stream",
          "name": "stdout",
          "text": [
            "Error processingExcitedFace:[Errno 21] Is a directory: '/content/emotion_images/ExcitedFace'\n",
            "Error processingHappyFace:[Errno 21] Is a directory: '/content/emotion_images/HappyFace'\n",
            "Error processingSadFace:[Errno 21] Is a directory: '/content/emotion_images/SadFace'\n",
            "Error processingAngryFace:[Errno 21] Is a directory: '/content/emotion_images/AngryFace'\n"
          ]
        }
      ]
    }
  ]
}